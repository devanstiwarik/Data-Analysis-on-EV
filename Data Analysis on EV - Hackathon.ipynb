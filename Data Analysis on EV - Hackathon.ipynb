{
 "cells": [
  {
   "cell_type": "markdown",
   "id": "3da9f0b0",
   "metadata": {},
   "source": [
    "# Import necessary libraries"
   ]
  },
  {
   "cell_type": "code",
   "execution_count": null,
   "id": "96ec3989",
   "metadata": {},
   "outputs": [],
   "source": [
    "import pandas as pd\n",
    "import plotly.express as px\n",
    "import plotly.graph_objects as go\n",
    "import chart_studio.plotly as py\n",
    "import plotly.tools as tls"
   ]
  },
  {
   "cell_type": "markdown",
   "id": "ca1db3ba",
   "metadata": {},
   "source": [
    "# Read Dataset"
   ]
  },
  {
   "cell_type": "code",
   "execution_count": null,
   "id": "e38e190a",
   "metadata": {},
   "outputs": [],
   "source": [
    "df = pd.read_csv(r\"C:\\Users\\saura\\Downloads\\dataset.csv\")\n",
    "df.head()"
   ]
  },
  {
   "cell_type": "markdown",
   "id": "f29ddd31",
   "metadata": {},
   "source": [
    "# Basic Information about dataset"
   ]
  },
  {
   "cell_type": "code",
   "execution_count": null,
   "id": "ff3c0f05",
   "metadata": {},
   "outputs": [],
   "source": [
    "df.shape"
   ]
  },
  {
   "cell_type": "code",
   "execution_count": null,
   "id": "79044899",
   "metadata": {},
   "outputs": [],
   "source": [
    "df.info()"
   ]
  },
  {
   "cell_type": "code",
   "execution_count": null,
   "id": "fa3403bb",
   "metadata": {},
   "outputs": [],
   "source": [
    "df.isnull().sum()"
   ]
  },
  {
   "cell_type": "code",
   "execution_count": null,
   "id": "5dc700d5",
   "metadata": {},
   "outputs": [],
   "source": [
    "df.duplicated().sum()"
   ]
  },
  {
   "cell_type": "code",
   "execution_count": null,
   "id": "db237fb6",
   "metadata": {},
   "outputs": [],
   "source": [
    "df.fillna(df['Model'].mode(), inplace = True)"
   ]
  },
  {
   "cell_type": "markdown",
   "id": "f0020791",
   "metadata": {},
   "source": [
    "# Task 1 - Perform EDA using Plotly.express"
   ]
  },
  {
   "cell_type": "markdown",
   "id": "22acbae7",
   "metadata": {},
   "source": [
    "# Scatter Plot "
   ]
  },
  {
   "cell_type": "code",
   "execution_count": null,
   "id": "7a11ac27",
   "metadata": {},
   "outputs": [],
   "source": [
    "fig = px.scatter(df, x=\"State\", y=\"Model\", color=\"Electric Vehicle Type\")\n",
    "fig.show()"
   ]
  },
  {
   "cell_type": "code",
   "execution_count": null,
   "id": "3c1d6243",
   "metadata": {},
   "outputs": [],
   "source": [
    "fig = px.scatter(df, x=\"State\", y=\"Model\", color=\"Clean Alternative Fuel Vehicle (CAFV) Eligibility\")\n",
    "fig.show()"
   ]
  },
  {
   "cell_type": "markdown",
   "id": "0c1607b8",
   "metadata": {},
   "source": [
    "# Pie Chart"
   ]
  },
  {
   "cell_type": "code",
   "execution_count": null,
   "id": "092b540d",
   "metadata": {},
   "outputs": [],
   "source": [
    "fig = px.pie(df,values='Electric Range', names='City', title='EV Made by')\n",
    "fig.show()"
   ]
  },
  {
   "cell_type": "markdown",
   "id": "cceaa5cf",
   "metadata": {},
   "source": [
    "# Box Plot"
   ]
  },
  {
   "cell_type": "code",
   "execution_count": null,
   "id": "10e91fa7",
   "metadata": {},
   "outputs": [],
   "source": [
    "fig = px.box(df, x=\"Make\", y=\"Electric Range\", color=\"Electric Vehicle Type\", notched=True)\n",
    "fig.show()"
   ]
  },
  {
   "cell_type": "markdown",
   "id": "6b939443",
   "metadata": {},
   "source": [
    "## Task2 - Create a Choropleth to display the number of EV vehicles based on location."
   ]
  },
  {
   "cell_type": "code",
   "execution_count": null,
   "id": "fa65cc4e",
   "metadata": {},
   "outputs": [],
   "source": [
    "from urllib.request import urlopen\n",
    "import json\n",
    "with urlopen('https://raw.githubusercontent.com/plotly/datasets/master/geojson-counties-fips.json') as response:\n",
    "    counties = json.load(response)\n",
    "\n",
    "counties[\"features\"][0]"
   ]
  },
  {
   "cell_type": "code",
   "execution_count": null,
   "id": "157bc9bf",
   "metadata": {},
   "outputs": [],
   "source": [
    "from urllib.request import urlopen\n",
    "import json\n",
    "with urlopen('https://raw.githubusercontent.com/plotly/datasets/master/geojson-counties-fips.json') as response:\n",
    "    counties = json.load(response)\n",
    "\n",
    "import pandas as pd\n",
    "df = pd.read_csv(\"dataset.csv\",\n",
    "                   dtype={\"DOL Vehicle ID\": str})\n",
    "\n",
    "import plotly.express as px\n",
    "\n",
    "fig = px.choropleth(df, geojson=counties, locations='DOL Vehicle ID', color='Electric Range',\n",
    "                           color_continuous_scale=\"Viridis\",\n",
    "                           range_color=(0, 12),\n",
    "                           scope=\"usa\",\n",
    "                           labels={'Electric Range':'electric range'}\n",
    "                          )\n",
    "fig.update_layout(margin={\"r\":0,\"t\":0,\"l\":0,\"b\":0})\n",
    "fig.show()"
   ]
  },
  {
   "cell_type": "markdown",
   "id": "421f7d62",
   "metadata": {},
   "source": [
    "### Task 3 - Create a Racing Bar Plot to display the animation of EV Make and its count each year."
   ]
  },
  {
   "cell_type": "code",
   "execution_count": null,
   "id": "9211a239",
   "metadata": {},
   "outputs": [],
   "source": [
    "df['Model Year'] = pd.to_datetime(df['Model Year'], format='%Y').dt.year.astype(str)\n",
    "ev_make_count = df.groupby(['Model Year', 'Make']).size().reset_index(name='Count')"
   ]
  },
  {
   "cell_type": "code",
   "execution_count": null,
   "id": "f1947279",
   "metadata": {},
   "outputs": [],
   "source": [
    "# Create the Racing Bar Plot\n",
    "fig = px.bar(\n",
    "    ev_make_count,\n",
    "    x='Make',\n",
    "    y='Count',\n",
    "    animation_frame='Model Year',\n",
    "    animation_group='Make',\n",
    "    range_y=[0, ev_make_count['Count'].max() + 10],  \n",
    "    title='EV Make Count Over the Years',\n",
    ")\n",
    "\n",
    "# Set the layout and labels for better visualization\n",
    "fig.update_layout(\n",
    "    xaxis_title='EV Make',\n",
    "    yaxis_title='Count',\n",
    "    showlegend=False,\n",
    "    title_font_size=24,\n",
    ")\n",
    "\n",
    "# Show the Racing Bar Plot\n",
    "fig.show()"
   ]
  },
  {
   "cell_type": "code",
   "execution_count": null,
   "id": "cf7a831d",
   "metadata": {},
   "outputs": [],
   "source": []
  }
 ],
 "metadata": {
  "kernelspec": {
   "display_name": "Python 3 (ipykernel)",
   "language": "python",
   "name": "python3"
  },
  "language_info": {
   "codemirror_mode": {
    "name": "ipython",
    "version": 3
   },
   "file_extension": ".py",
   "mimetype": "text/x-python",
   "name": "python",
   "nbconvert_exporter": "python",
   "pygments_lexer": "ipython3",
   "version": "3.9.13"
  }
 },
 "nbformat": 4,
 "nbformat_minor": 5
}
